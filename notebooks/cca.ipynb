{
 "cells": [
  {
   "cell_type": "code",
   "execution_count": 10,
   "metadata": {},
   "outputs": [],
   "source": [
    "import numpy as np\n",
    "from numpy import dot\n",
    "import scipy.linalg as la\n",
    "import sklearn\n",
    "from sklearn.cross_decomposition import CCA as sklearn_CCCA\n",
    "from sklearn import decomposition\n",
    "from sklearn.utils.extmath import randomized_svd\n",
    "import time"
   ]
  },
  {
   "cell_type": "code",
   "execution_count": 45,
   "metadata": {},
   "outputs": [],
   "source": [
    "class CCAModel(object):\n",
    "\n",
    "        def __init__(self, dim):\n",
    "        \n",
    "                self.mean_x, self.mean_y, self.A, self.B, self.sum_crr = None, None, None, None, None\n",
    "                self.dim = dim\n",
    "                \n",
    "        def __call__(self, H1, H2 = None, training = True):\n",
    "        \n",
    "                # H1 and H2 are featurs X num_points matrices containing samples columnwise.\n",
    "                # dim is the desired dimensionality of CCA space.\n",
    "\n",
    "                if training and (H2 is None):\n",
    "                        \n",
    "                                raise Exception(\"Expected two views in training.\")\n",
    "    \n",
    "                if training:\n",
    "\n",
    "                        N = H1.shape[1] \n",
    "                        \n",
    "                        # Remove mean\n",
    "                        \n",
    "                        m1 = np.mean(H1, axis=1)\n",
    "                        m2 = np.mean(H2, axis=1)\n",
    "                        self.mean_x, self.mean_y = m1, m2\n",
    "                        \n",
    "                        H1 = H1 - m1[:, None]\n",
    "                        H2 = H2 - m2[:, None]\n",
    "    \n",
    "                        S11 = (H1.dot(H1.T))/(N-1) # cov_xx\n",
    "                        S22 = (H2.dot(H2.T))/(N-1) # cov_yy\n",
    "                        S12 = H2.dot(H1.T)/(N-1) # cov_yx\n",
    "                        \n",
    "                        # calculate K11 = inverse(sqrt(S11)), K22 = inverse(sqrt(S22))\n",
    "                        \n",
    "                        D1,V1 = la.eig(S11)\n",
    "                        D2,V2 = la.eig(S22)\n",
    "\n",
    "                        K11 = V1.dot(np.diag(1/np.sqrt(D1))).dot(V1.T)\n",
    "                        K22 = V2.dot(np.diag(1/np.sqrt(D2))).dot(V2.T))\n",
    "\n",
    "                        \n",
    "                        # Calculate correlation matrix\n",
    "                        \n",
    "                        T = K22.dot(S12).dot(K11)\n",
    "                        \n",
    "                        # Perform SVD on correlation matrix\n",
    "                        \n",
    "                        U,D,V = np.linalg.svd(T)\n",
    "                        self.corr = np.mean(D)\n",
    "                        U, V = U[:self.dim, :], V[:self.dim, :]\n",
    "                        D = np.diag(D) # correlation coefficiens of the canonical components\n",
    "                        A = dot(K11,V.T) # projection matrix for H1\n",
    "                        B = dot(K22,U.T) # projection matrix for H2\n",
    "                        \n",
    "                        self.A, self.B = A,B\n",
    "                        \n",
    "                        \n",
    "                        # Project & return\n",
    "                        H1_proj, H2_proj = H1.T.dot(self.A), H2.T.dot(self.B)\n",
    "                        return H1_proj, H2_proj, self.corr\n",
    "                \n",
    "                else:\n",
    "                        # in test time, use saved mean and projection matrix.\n",
    "                        \n",
    "                        H1 -= self.mean_x[:, None]\n",
    "                        return H1.T.dot(self.A)"
   ]
  },
  {
   "cell_type": "code",
   "execution_count": 46,
   "metadata": {},
   "outputs": [],
   "source": [
    "def create_dataset(size = 2000, dim = 50):\n",
    "    \n",
    "    X = np.random.rand(size, dim) - 0.5\n",
    "    Y = 1.5 * X + 0.1 * (np.random.rand(*X.shape) - 0.5) # Y is linearly correlated with X + some noise\n",
    "    \n",
    "    return X,Y"
   ]
  },
  {
   "cell_type": "code",
   "execution_count": 47,
   "metadata": {},
   "outputs": [],
   "source": [
    "cca_dim = 3\n",
    "X,Y = create_dataset(size = 2000, dim = 50)"
   ]
  },
  {
   "cell_type": "markdown",
   "metadata": {},
   "source": [
    "***Perform gold CCA.***"
   ]
  },
  {
   "cell_type": "code",
   "execution_count": 48,
   "metadata": {
    "scrolled": true
   },
   "outputs": [
    {
     "name": "stdout",
     "output_type": "stream",
     "text": [
      "Projected X first elements:\n",
      " [[ 0.57367207  1.45814387 -0.09837337]\n",
      " [-0.75973449  1.46924012 -1.949711  ]\n",
      " [ 1.59093368 -0.98325315 -0.237967  ]\n",
      " [-0.05101062 -0.64054106  0.48598452]] \n",
      "\n",
      " Projected Y first elemenets:\n",
      " [[ 0.55917569  1.43136325 -0.05600422]\n",
      " [-0.85103198  1.42718596 -1.98022189]\n",
      " [ 1.62507462 -0.96377369 -0.13568865]\n",
      " [-0.01936337 -0.64042943  0.47896145]]\n"
     ]
    }
   ],
   "source": [
    "model = sklearn_CCCA(n_components=cca_dim, tol = 1e-8, max_iter= 50000)\n",
    "model.fit(X,Y)\n",
    "x,y = model.transform(X,Y)\n",
    "print(\"Projected X first elements:\\n {} \\n\\n Projected Y first elemenets:\\n {}\".format(x[:4],y[:4]))"
   ]
  },
  {
   "cell_type": "markdown",
   "metadata": {},
   "source": [
    "***Perform CCA with numpy ***"
   ]
  },
  {
   "cell_type": "code",
   "execution_count": 49,
   "metadata": {},
   "outputs": [
    {
     "name": "stdout",
     "output_type": "stream",
     "text": [
      "Projected X first elements:\n",
      " [[-1.33666355 -0.22314026 -1.08169637]\n",
      " [-0.23042993 -0.12436398  0.44316865]\n",
      " [-0.14744537  1.49643563 -0.90694871]\n",
      " [ 0.40185982 -0.01081162  0.72672613]] \n",
      "\n",
      " Projected Y first elemenets:\n",
      " [[-0.71872863  0.87757    -1.67268318]\n",
      " [ 0.19520301 -2.26149533  0.13432258]\n",
      " [-1.09484534  0.83719782  0.67735054]\n",
      " [-0.12347293  0.08399104 -0.85785667]]\n",
      "Correlation: 0.9977808294901362\n"
     ]
    }
   ],
   "source": [
    "model = CCAModel(dim = cca_dim)\n",
    "x,y, corr = model(H1=X.T,H2=Y.T, training = True)\n",
    "x,y = np.real(x), np.real(y)\n",
    "print(\"Projected X first elements:\\n {} \\n\\n Projected Y first elemenets:\\n {}\".format(x[:4],y[:4]))\n",
    "print(\"Correlation: {}\".format(corr))"
   ]
  },
  {
   "cell_type": "code",
   "execution_count": null,
   "metadata": {},
   "outputs": [],
   "source": []
  },
  {
   "cell_type": "code",
   "execution_count": null,
   "metadata": {},
   "outputs": [],
   "source": []
  }
 ],
 "metadata": {
  "kernelspec": {
   "display_name": "Python 3",
   "language": "python",
   "name": "python3"
  },
  "language_info": {
   "codemirror_mode": {
    "name": "ipython",
    "version": 3
   },
   "file_extension": ".py",
   "mimetype": "text/x-python",
   "name": "python",
   "nbconvert_exporter": "python",
   "pygments_lexer": "ipython3",
   "version": "3.6.3"
  }
 },
 "nbformat": 4,
 "nbformat_minor": 2
}
